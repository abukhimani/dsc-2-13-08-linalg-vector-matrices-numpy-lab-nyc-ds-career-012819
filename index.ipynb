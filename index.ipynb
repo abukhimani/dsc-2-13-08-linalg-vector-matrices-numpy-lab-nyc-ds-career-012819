{
 "cells": [
  {
   "cell_type": "markdown",
   "metadata": {},
   "source": [
    "# Vectors and Matrices in Numpy - Lab\n",
    "\n",
    "## Introduction\n",
    "\n",
    "This lab will ask you to perform some simple matrix creation and manipulation exercises based on what we have covered so far in this section. The key takeaway here for you is to be able to understand how to using indexing with matrices and vectors while applying some basic operations.\n",
    "\n",
    "## Objectives\n",
    "You will be able to:\n",
    "* Define vectors and matrices in NumPy\n",
    "* Check the shape of vectors and matrices\n",
    "* Access and manipulate individual scalar components of a matrix. "
   ]
  },
  {
   "cell_type": "markdown",
   "metadata": {},
   "source": [
    "## 1. Define two arrays A (4x2) and B (2x3) \n",
    "```\n",
    "A = 1402, 191 \n",
    "    1371, 821 \n",
    "    949, 1437\n",
    "    147, 1448\n",
    "    \n",
    "B = 1, 2, 3\n",
    "    4, 5, 6\n",
    "    ```"
   ]
  },
  {
   "cell_type": "code",
   "execution_count": 5,
   "metadata": {},
   "outputs": [
    {
     "name": "stdout",
     "output_type": "stream",
     "text": [
      "[[1402  191]\n",
      " [1371  821]\n",
      " [ 949 1437]\n",
      " [ 147 1448]]\n",
      "\n",
      "\n",
      "[[1 2 3]\n",
      " [4 5 6]]\n"
     ]
    }
   ],
   "source": [
    "# Code Here\n",
    "import numpy as np\n",
    "A = np.array([[1402, 191], [1371, 821], [949, 1437], [147, 1448]])\n",
    "B = np.array([[1, 2, 3], [4, 5, 6]])\n",
    "print(A)\n",
    "print('\\n')\n",
    "print(B)"
   ]
  },
  {
   "cell_type": "markdown",
   "metadata": {},
   "source": [
    "## 2. Print the dimensions of A and B "
   ]
  },
  {
   "cell_type": "code",
   "execution_count": 9,
   "metadata": {},
   "outputs": [
    {
     "name": "stdout",
     "output_type": "stream",
     "text": [
      "(4, 2)\n",
      "\n",
      "\n",
      "(2, 3)\n"
     ]
    }
   ],
   "source": [
    "# Code Here\n",
    "print(A.shape)\n",
    "print('\\n')\n",
    "print(B.shape)"
   ]
  },
  {
   "cell_type": "markdown",
   "metadata": {},
   "source": [
    "## 3. Print some of the elements from A at following locations\n",
    "* first row and first column\n",
    "* first row and second column\n",
    "* third row and second column\n",
    "* fourth row and first column"
   ]
  },
  {
   "cell_type": "code",
   "execution_count": 14,
   "metadata": {},
   "outputs": [
    {
     "data": {
      "text/plain": [
       "147"
      ]
     },
     "execution_count": 14,
     "metadata": {},
     "output_type": "execute_result"
    }
   ],
   "source": [
    "# Code Here\n",
    "A[3,0]"
   ]
  },
  {
   "cell_type": "markdown",
   "metadata": {},
   "source": [
    "## 4. Write a routine to populate matrix with random data\n",
    "* Create an 3x3 numpy array with all zeros (use `np.zeros()`)\n",
    "* Access each location i,j of this matrix and fill in random values between the range 1 and 10. "
   ]
  },
  {
   "cell_type": "code",
   "execution_count": 22,
   "metadata": {},
   "outputs": [
    {
     "name": "stdout",
     "output_type": "stream",
     "text": [
      "[[1. 6. 5.]\n",
      " [9. 7. 4.]\n",
      " [9. 9. 7.]]\n"
     ]
    }
   ],
   "source": [
    "# Code Here (due to random data , your output might be different)\n",
    "my_arr = np.zeros((3, 3))\n",
    "my_arr\n",
    "\n",
    "import random\n",
    "\n",
    "for x in range(0, my_arr.shape[0]):\n",
    "    for y in range(0, my_arr.shape[1]):\n",
    "        my_arr[x, y] = random.randrange(1,10)\n",
    "\n",
    "print(my_arr)"
   ]
  },
  {
   "cell_type": "markdown",
   "metadata": {},
   "source": [
    "## 5. Turn above routine into a function.\n",
    "* Create two 4x4 zero valued matrices and fill with random data using the function\n",
    "* Add the matrices together in numpy \n",
    "* Show the results"
   ]
  },
  {
   "cell_type": "code",
   "execution_count": 40,
   "metadata": {},
   "outputs": [
    {
     "name": "stdout",
     "output_type": "stream",
     "text": [
      "[[3. 7. 2. 8.]\n",
      " [9. 9. 3. 7.]\n",
      " [8. 7. 2. 7.]\n",
      " [3. 4. 8. 7.]]\n",
      "\n",
      "\n",
      "[[9. 6. 7. 5.]\n",
      " [9. 2. 9. 9.]\n",
      " [6. 3. 3. 8.]\n",
      " [8. 1. 3. 6.]]\n",
      "\n",
      "\n",
      "[[12. 13.  9. 13.]\n",
      " [18. 11. 12. 16.]\n",
      " [14. 10.  5. 15.]\n",
      " [11.  5. 11. 13.]]\n"
     ]
    }
   ],
   "source": [
    "# Code Here (due to random data , your output might be different)\n",
    "\n",
    "# def mat_func(matrix):\n",
    "#     for i in range(0, matrix.shape[0]):\n",
    "#         for j in range(0, matrix.shape[1]):\n",
    "#             matrix[i, j] = random.randrange(1,10)\n",
    "#     return matrix\n",
    "    \n",
    "\n",
    "Mat1 = np.zeros((4, 4))\n",
    "Mat2 = np.zeros((4, 4))\n",
    "\n",
    "Mat1_update = mat_func(M1)\n",
    "Mat2_update = mat_func(M2)\n",
    "\n",
    "print(Mat1_update)\n",
    "print('\\n')\n",
    "print(Mat2_update)\n",
    "\n",
    "Mat3 = Mat1_update + Mat2_update\n",
    "\n",
    "print('\\n')\n",
    "print(Mat3)"
   ]
  },
  {
   "cell_type": "markdown",
   "metadata": {},
   "source": [
    "## Summary \n",
    "\n",
    "In this lab, we saw how to create and manipulate vectors and matrices in numpy. We shall now move forward to learning more complex operations including dot products and inverses. "
   ]
  }
 ],
 "metadata": {
  "kernelspec": {
   "display_name": "Python 3",
   "language": "python",
   "name": "python3"
  },
  "language_info": {
   "codemirror_mode": {
    "name": "ipython",
    "version": 3
   },
   "file_extension": ".py",
   "mimetype": "text/x-python",
   "name": "python",
   "nbconvert_exporter": "python",
   "pygments_lexer": "ipython3",
   "version": "3.6.6"
  }
 },
 "nbformat": 4,
 "nbformat_minor": 2
}
